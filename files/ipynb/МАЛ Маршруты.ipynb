{
 "cells": [
  {
   "cell_type": "code",
   "execution_count": 27,
   "metadata": {},
   "outputs": [
    {
     "data": {
      "text/plain": [
       "107"
      ]
     },
     "execution_count": 27,
     "metadata": {},
     "output_type": "execute_result"
    }
   ],
   "source": [
    "from pandas import read_csv, read_excel, DataFrame\n",
    "from collections import namedtuple\n",
    "\n",
    "М = namedtuple('МАШРШРУТ', 'откуда куда расстояние')\n",
    "\n",
    "aopa = read_csv('../csv/aopa-points-export.csv', sep=';', index_col='Индекс')\n",
    "сводка = read_csv('../csv/Сводка.csv', index_col='ICAO')\n",
    "ftd = read_csv('../csv/FTD.csv', index_col='FT')\n",
    "агломерация = read_csv('../csv/Агломерация.csv', index_col='ICAO')\n",
    "\n",
    "АН = сводка[сводка['Вид'] == \"АН\"]\n",
    "УА = сводка[сводка['Вид'] == \"УА\"]\n",
    "\n",
    "АНУА = []\n",
    "for _ in ftd.index:\n",
    "    # запись = М(_[:4], _[4:], ftd.loc[_]['D'])\n",
    "    АНУА.append(dict(вылет = _[:4], прилёт = _[4:], дистанция = ftd.loc[_]['D']))\n",
    "\n",
    "df = DataFrame(АНУА)\n",
    "\n",
    "ВПД = []\n",
    "for _ in АН.index:\n",
    "    df1 = df[df['вылет'] == _]\n",
    "    df2 = df1[(df1['вылет'] == _) & (df1['дистанция'] == df1.дистанция.min())]\n",
    "    ВПД.append(dict(АН = df2.iloc[0][0], УА = df2.iloc[0][1], дистанция = df2.iloc[0][2]))\n",
    "\n",
    "АНУА = DataFrame(ВПД)\n",
    "АНУА.to_csv('../csv/АНУА.csv', sep=',', header=['АН', \"УА\", \"дистанция\"])"
   ]
  }
 ],
 "metadata": {
  "kernelspec": {
   "display_name": "Python 3.11",
   "language": "python",
   "name": "Питон311"
  },
  "language_info": {
   "codemirror_mode": {
    "name": "ipython",
    "version": 3
   },
   "file_extension": ".py",
   "mimetype": "text/x-python",
   "name": "python",
   "nbconvert_exporter": "python",
   "pygments_lexer": "ipython3",
   "version": "3.9.12"
  }
 },
 "nbformat": 4,
 "nbformat_minor": 2
}
