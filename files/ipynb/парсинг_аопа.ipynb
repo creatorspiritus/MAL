{
 "cells": [
  {
   "cell_type": "code",
   "execution_count": 10,
   "metadata": {},
   "outputs": [
    {
     "name": "stdout",
     "output_type": "stream",
     "text": [
      "Мир Всем!\n"
     ]
    }
   ],
   "source": [
    "from selenium import webdriver\n",
    "\n",
    "print(\"Мир Всем!\")\n",
    "\n",
    "ключ = \"8156-PkPS75\"\n",
    "аэродром = 'UNWW'\n",
    "url = 'https://maps.aopa.ru/#lon/86.878389/lat/53.811942/z/15/ll/a/bl/gm'\n",
    "driver = webdriver.Chrome()\n",
    "driver.get(url)\n",
    "button = driver.find_element(value = \"currentUser\").click()\n",
    "login = 'mk@kuz.ru'\n",
    "password = 'aeroflot'\n",
    "\n"
   ]
  }
 ],
 "metadata": {
  "kernelspec": {
   "display_name": ".malst",
   "language": "python",
   "name": "python3"
  },
  "language_info": {
   "codemirror_mode": {
    "name": "ipython",
    "version": 3
   },
   "file_extension": ".py",
   "mimetype": "text/x-python",
   "name": "python",
   "nbconvert_exporter": "python",
   "pygments_lexer": "ipython3",
   "version": "3.11.1"
  }
 },
 "nbformat": 4,
 "nbformat_minor": 2
}
