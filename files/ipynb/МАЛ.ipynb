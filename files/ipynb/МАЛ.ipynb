{
 "cells": [
  {
   "cell_type": "code",
   "execution_count": 42,
   "metadata": {},
   "outputs": [],
   "source": [
    "from importlib.machinery import SourceFileLoader\n",
    "from datetime import datetime\n",
    "import pandas as pd\n",
    "МАЛ = SourceFileLoader('module.name', '../py/МАЛ.py').load_module()"
   ]
  },
  {
   "cell_type": "code",
   "execution_count": 43,
   "metadata": {},
   "outputs": [
    {
     "data": {
      "text/plain": [
       "[Маршрут(откуда='UHPT', куда='UHMA', дистанция=771, АВ=2438, АП=19022),\n",
       " Маршрут(откуда='UHPT', куда='UHMM', дистанция=849, АВ=2438, АП=113381),\n",
       " Маршрут(откуда='UHPT', куда='UHPP', дистанция=925, АВ=2438, АП=268292)]"
      ]
     },
     "execution_count": 43,
     "metadata": {},
     "output_type": "execute_result"
    }
   ],
   "source": [
    "МАЛ.А('UHPT').РСН"
   ]
  },
  {
   "cell_type": "code",
   "execution_count": 39,
   "metadata": {},
   "outputs": [
    {
     "data": {
      "text/plain": [
       "UHMA|DYR|Угольный|Анадырь"
      ]
     },
     "execution_count": 39,
     "metadata": {},
     "output_type": "execute_result"
    }
   ],
   "source": [
    "МАЛ.А('UHMA')"
   ]
  },
  {
   "cell_type": "code",
   "execution_count": 19,
   "metadata": {},
   "outputs": [
    {
     "data": {
      "text/plain": [
       "7647.619047619048"
      ]
     },
     "execution_count": 19,
     "metadata": {},
     "output_type": "execute_result"
    }
   ],
   "source": [
    "32120/4.2"
   ]
  },
  {
   "cell_type": "code",
   "execution_count": 3,
   "metadata": {},
   "outputs": [
    {
     "data": {
      "text/plain": [
       "Сводные данные по рейсу\n",
       "\n",
       "Аэропорт вылета:   UNWW|NOZ|Новокузнецк|Спиченково\n",
       "Аэропорт прибытия: UNNT|OVB|Новосибирск|Толмачёво\n",
       "Расчётный тип ВС:  Ил-114-300\n",
       "Дистанция:         309 км\n",
       "Продолжительность: 0:48\n",
       "Вылет:             2025-05-01 00:00:00\n",
       "Прибытие:          2025-05-01 01:05:18.816000\n",
       "Отправление:       2025-05-01 01:50:18.816000\n",
       "Себестоимость:     133887.89"
      ]
     },
     "execution_count": 3,
     "metadata": {},
     "output_type": "execute_result"
    }
   ],
   "source": [
    "НВКНСКИЛ = МАЛ.Р('UNWW', 'UNNT', 'Ил-114-300')\n",
    "НВКНСКИЛ"
   ]
  },
  {
   "cell_type": "code",
   "execution_count": 2,
   "metadata": {},
   "outputs": [
    {
     "ename": "FileNotFoundError",
     "evalue": "[Errno 2] No such file or directory: 'c:\\\\Users\\\\kotlyarov_m\\\\Documents\\\\MK\\\\MAL\\\\20230414\\\\MAL\\\\files\\\\csv\\\\aopa-points-export.csv'",
     "output_type": "error",
     "traceback": [
      "\u001b[1;31m---------------------------------------------------------------------------\u001b[0m",
      "\u001b[1;31mFileNotFoundError\u001b[0m                         Traceback (most recent call last)",
      "\u001b[1;32mc:\\Users\\kotlyarov_m\\Documents\\MK\\MAL\\20230414\\MAL\\files\\ipynb\\МАЛ.ipynb Cell 3\u001b[0m in \u001b[0;36m<cell line: 2>\u001b[1;34m()\u001b[0m\n\u001b[0;32m      <a href='vscode-notebook-cell:/c%3A/Users/kotlyarov_m/Documents/MK/MAL/20230414/MAL/files/ipynb/%D0%9C%D0%90%D0%9B.ipynb#W2sZmlsZQ%3D%3D?line=0'>1</a>\u001b[0m файл \u001b[39m=\u001b[39m МАЛ\u001b[39m.\u001b[39mИД()\u001b[39m.\u001b[39mРЧ[\u001b[39m'\u001b[39m\u001b[39mКаталог\u001b[39m\u001b[39m'\u001b[39m]\u001b[39m.\u001b[39mjoinpath(\u001b[39mr\u001b[39m\u001b[39m'\u001b[39m\u001b[39mcsv/aopa-points-export.csv\u001b[39m\u001b[39m'\u001b[39m)\n\u001b[1;32m----> <a href='vscode-notebook-cell:/c%3A/Users/kotlyarov_m/Documents/MK/MAL/20230414/MAL/files/ipynb/%D0%9C%D0%90%D0%9B.ipynb#W2sZmlsZQ%3D%3D?line=1'>2</a>\u001b[0m \u001b[39mwith\u001b[39;00m \u001b[39mopen\u001b[39;49m(файл, encoding\u001b[39m=\u001b[39;49m\u001b[39m'\u001b[39;49m\u001b[39mutf8\u001b[39;49m\u001b[39m'\u001b[39;49m) \u001b[39mas\u001b[39;00m f:\n\u001b[0;32m      <a href='vscode-notebook-cell:/c%3A/Users/kotlyarov_m/Documents/MK/MAL/20230414/MAL/files/ipynb/%D0%9C%D0%90%D0%9B.ipynb#W2sZmlsZQ%3D%3D?line=2'>3</a>\u001b[0m     ff \u001b[39m=\u001b[39m pd\u001b[39m.\u001b[39mread_csv(f, sep\u001b[39m=\u001b[39m\u001b[39m'\u001b[39m\u001b[39m;\u001b[39m\u001b[39m'\u001b[39m, index_col\u001b[39m=\u001b[39m\u001b[39m'\u001b[39m\u001b[39mИндекс\u001b[39m\u001b[39m'\u001b[39m)\n\u001b[0;32m      <a href='vscode-notebook-cell:/c%3A/Users/kotlyarov_m/Documents/MK/MAL/20230414/MAL/files/ipynb/%D0%9C%D0%90%D0%9B.ipynb#W2sZmlsZQ%3D%3D?line=3'>4</a>\u001b[0m ff\n",
      "\u001b[1;31mFileNotFoundError\u001b[0m: [Errno 2] No such file or directory: 'c:\\\\Users\\\\kotlyarov_m\\\\Documents\\\\MK\\\\MAL\\\\20230414\\\\MAL\\\\files\\\\csv\\\\aopa-points-export.csv'"
     ]
    }
   ],
   "source": [
    "файл = МАЛ.ИД().РЧ['Каталог'].joinpath(r'csv/aopa-points-export.csv')\n",
    "with open(файл, encoding='utf8') as f:\n",
    "    ff = pd.read_csv(f, sep=';', index_col='Индекс')\n",
    "ff"
   ]
  },
  {
   "cell_type": "code",
   "execution_count": 3,
   "metadata": {},
   "outputs": [
    {
     "ename": "NameError",
     "evalue": "name '__file__' is not defined",
     "output_type": "error",
     "traceback": [
      "\u001b[1;31m---------------------------------------------------------------------------\u001b[0m",
      "\u001b[1;31mNameError\u001b[0m                                 Traceback (most recent call last)",
      "\u001b[1;32mc:\\Users\\kotlyarov_m\\Documents\\MK\\MAL\\20230414\\MAL\\files\\ipynb\\МАЛ.ipynb Cell 4\u001b[0m in \u001b[0;36m<cell line: 2>\u001b[1;34m()\u001b[0m\n\u001b[0;32m      <a href='vscode-notebook-cell:/c%3A/Users/kotlyarov_m/Documents/MK/MAL/20230414/MAL/files/ipynb/%D0%9C%D0%90%D0%9B.ipynb#W3sZmlsZQ%3D%3D?line=0'>1</a>\u001b[0m \u001b[39mfrom\u001b[39;00m \u001b[39mos\u001b[39;00m\u001b[39m.\u001b[39;00m\u001b[39mpath\u001b[39;00m \u001b[39mimport\u001b[39;00m dirname, join\n\u001b[1;32m----> <a href='vscode-notebook-cell:/c%3A/Users/kotlyarov_m/Documents/MK/MAL/20230414/MAL/files/ipynb/%D0%9C%D0%90%D0%9B.ipynb#W3sZmlsZQ%3D%3D?line=1'>2</a>\u001b[0m current_dir \u001b[39m=\u001b[39m dirname(\u001b[39m__file__\u001b[39;49m)\n\u001b[0;32m      <a href='vscode-notebook-cell:/c%3A/Users/kotlyarov_m/Documents/MK/MAL/20230414/MAL/files/ipynb/%D0%9C%D0%90%D0%9B.ipynb#W3sZmlsZQ%3D%3D?line=2'>3</a>\u001b[0m \u001b[39m#file_path = join(current_dir, \"./test.txt\")\u001b[39;00m\n\u001b[0;32m      <a href='vscode-notebook-cell:/c%3A/Users/kotlyarov_m/Documents/MK/MAL/20230414/MAL/files/ipynb/%D0%9C%D0%90%D0%9B.ipynb#W3sZmlsZQ%3D%3D?line=3'>4</a>\u001b[0m \u001b[39m#with open(file_path, 'r') as f:\u001b[39;00m\n\u001b[0;32m      <a href='vscode-notebook-cell:/c%3A/Users/kotlyarov_m/Documents/MK/MAL/20230414/MAL/files/ipynb/%D0%9C%D0%90%D0%9B.ipynb#W3sZmlsZQ%3D%3D?line=4'>5</a>\u001b[0m f \u001b[39m=\u001b[39m pd\u001b[39m.\u001b[39mread_file(\u001b[39mr\u001b[39m\u001b[39m'\u001b[39m\u001b[39m..\u001b[39m\u001b[39m\\\u001b[39m\u001b[39mcsv\u001b[39m\u001b[39m\\\u001b[39m\u001b[39maopa-points-export.csv\u001b[39m\u001b[39m'\u001b[39m, sep\u001b[39m=\u001b[39m\u001b[39m'\u001b[39m\u001b[39m;\u001b[39m\u001b[39m'\u001b[39m, index_col\u001b[39m=\u001b[39m\u001b[39m'\u001b[39m\u001b[39mИндекс\u001b[39m\u001b[39m'\u001b[39m)\n",
      "\u001b[1;31mNameError\u001b[0m: name '__file__' is not defined"
     ]
    }
   ],
   "source": [
    "from os.path import dirname, join\n",
    "current_dir = dirname(__file__)\n",
    "#file_path = join(current_dir, \"./test.txt\")\n",
    "#with open(file_path, 'r') as f:\n",
    "f = pd.read_file(r'..\\csv\\aopa-points-export.csv', sep=';', index_col='Индекс')\n",
    "f"
   ]
  }
 ],
 "metadata": {
  "kernelspec": {
   "display_name": "Python 3 (ipykernel)",
   "language": "python",
   "name": "python3"
  },
  "language_info": {
   "codemirror_mode": {
    "name": "ipython",
    "version": 3
   },
   "file_extension": ".py",
   "mimetype": "text/x-python",
   "name": "python",
   "nbconvert_exporter": "python",
   "pygments_lexer": "ipython3",
   "version": "3.9.7"
  }
 },
 "nbformat": 4,
 "nbformat_minor": 2
}
