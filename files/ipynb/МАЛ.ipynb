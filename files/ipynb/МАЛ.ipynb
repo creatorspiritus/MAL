{
 "cells": [
  {
   "cell_type": "code",
   "execution_count": 9,
   "metadata": {},
   "outputs": [],
   "source": [
    "from importlib.machinery import SourceFileLoader\n",
    "from datetime import datetime\n",
    "import pandas as pd\n",
    "МАЛ = SourceFileLoader('module.name', '../py/МАЛ.py').load_module()"
   ]
  },
  {
   "cell_type": "code",
   "execution_count": 21,
   "metadata": {},
   "outputs": [
    {
     "data": {
      "text/plain": [
       "1396602"
      ]
     },
     "execution_count": 21,
     "metadata": {},
     "output_type": "execute_result"
    }
   ],
   "source": [
    "NOZ = МАЛ.АЭРОДРОМ('UNWW')\n",
    "NOZ.Агломерация"
   ]
  },
  {
   "cell_type": "code",
   "execution_count": 5,
   "metadata": {},
   "outputs": [
    {
     "name": "stdout",
     "output_type": "stream",
     "text": [
      "ОШИБКА! Проверить наличие файла МАЛ.ini\n"
     ]
    },
    {
     "ename": "KeyError",
     "evalue": "'Опорные аэродромы'",
     "output_type": "error",
     "traceback": [
      "\u001b[0;31m---------------------------------------------------------------------------\u001b[0m",
      "\u001b[0;31mKeyError\u001b[0m                                  Traceback (most recent call last)",
      "\u001b[0;32m/var/folders/h6/9yrqzs9s7jn7ql71gb7d4sw40000gn/T/ipykernel_76317/2720178564.py\u001b[0m in \u001b[0;36m<module>\u001b[0;34m\u001b[0m\n\u001b[0;32m----> 1\u001b[0;31m \u001b[0mМАЛ\u001b[0m\u001b[0;34m.\u001b[0m\u001b[0mИД\u001b[0m\u001b[0;34m(\u001b[0m\u001b[0;34m)\u001b[0m\u001b[0;34m.\u001b[0m\u001b[0mОА\u001b[0m\u001b[0;34m\u001b[0m\u001b[0;34m\u001b[0m\u001b[0m\n\u001b[0m",
      "\u001b[0;32m~/Documents/Date/20231030/MAL/files/py/МАЛ.py\u001b[0m in \u001b[0;36mОА\u001b[0;34m(я)\u001b[0m\n\u001b[1;32m    213\u001b[0m                 \u001b[0mТВЗ\u001b[0m\u001b[0;34m:\u001b[0m \u001b[0mnamedtuple\u001b[0m \u001b[0mСДА\u001b[0m\u001b[0;34m\u001b[0m\u001b[0;34m\u001b[0m\u001b[0m\n\u001b[1;32m    214\u001b[0m \t\t\"\"\"\n\u001b[0;32m--> 215\u001b[0;31m                 \u001b[0mвозврат\u001b[0m \u001b[0;34m=\u001b[0m \u001b[0;34m[\u001b[0m\u001b[0;34m]\u001b[0m\u001b[0;34m\u001b[0m\u001b[0;34m\u001b[0m\u001b[0m\n\u001b[0m\u001b[1;32m    216\u001b[0m                 \u001b[0;32mfor\u001b[0m \u001b[0m_\u001b[0m \u001b[0;32min\u001b[0m \u001b[0mя\u001b[0m\u001b[0;34m.\u001b[0m\u001b[0mРЧ\u001b[0m\u001b[0;34m[\u001b[0m\u001b[0;34m'Опорные аэродромы'\u001b[0m\u001b[0;34m]\u001b[0m\u001b[0;34m:\u001b[0m\u001b[0;34m\u001b[0m\u001b[0;34m\u001b[0m\u001b[0m\n\u001b[1;32m    217\u001b[0m                         \u001b[0mзначение\u001b[0m \u001b[0;34m=\u001b[0m \u001b[0mя\u001b[0m\u001b[0;34m.\u001b[0m\u001b[0mРЧ\u001b[0m\u001b[0;34m[\u001b[0m\u001b[0;34m'Опорные аэродромы'\u001b[0m\u001b[0;34m]\u001b[0m\u001b[0;34m[\u001b[0m\u001b[0m_\u001b[0m\u001b[0;34m]\u001b[0m\u001b[0;34m.\u001b[0m\u001b[0msplit\u001b[0m\u001b[0;34m(\u001b[0m\u001b[0;34m' '\u001b[0m\u001b[0;34m)\u001b[0m\u001b[0;34m\u001b[0m\u001b[0;34m\u001b[0m\u001b[0m\n",
      "\u001b[0;31mKeyError\u001b[0m: 'Опорные аэродромы'"
     ]
    }
   ],
   "source": [
    "МАЛ.ИД().ОА"
   ]
  },
  {
   "cell_type": "code",
   "execution_count": null,
   "metadata": {},
   "outputs": [
    {
     "data": {
      "text/plain": [
       "{'фамилия  Феди': 'Котляров'}"
      ]
     },
     "execution_count": 11,
     "metadata": {},
     "output_type": "execute_result"
    }
   ],
   "source": [
    "я = МАЛ.Я()\n",
    "я.ДЧ(\"Миша\", \"Света\")\n",
    "я.ДЧ(\"Федя\", **{\"фамилия  Феди\": \"Котляров\"})\n",
    "я.РЧ"
   ]
  },
  {
   "cell_type": "code",
   "execution_count": null,
   "metadata": {},
   "outputs": [
    {
     "name": "stdout",
     "output_type": "stream",
     "text": [
      "ОШИБКА! Проверить наличие данных по типу в файле МАЛ.ini\n"
     ]
    },
    {
     "ename": "TypeError",
     "evalue": "can only concatenate str (not \"NoneType\") to str",
     "output_type": "error",
     "traceback": [
      "\u001b[1;31m---------------------------------------------------------------------------\u001b[0m",
      "\u001b[1;31mTypeError\u001b[0m                                 Traceback (most recent call last)",
      "File \u001b[1;32mc:\\Users\\kotlyarov_m\\Anaconda3\\lib\\site-packages\\IPython\\core\\formatters.py:707\u001b[0m, in \u001b[0;36mPlainTextFormatter.__call__\u001b[1;34m(self, obj)\u001b[0m\n\u001b[0;32m    700\u001b[0m stream \u001b[39m=\u001b[39m StringIO()\n\u001b[0;32m    701\u001b[0m printer \u001b[39m=\u001b[39m pretty\u001b[39m.\u001b[39mRepresentationPrinter(stream, \u001b[39mself\u001b[39m\u001b[39m.\u001b[39mverbose,\n\u001b[0;32m    702\u001b[0m     \u001b[39mself\u001b[39m\u001b[39m.\u001b[39mmax_width, \u001b[39mself\u001b[39m\u001b[39m.\u001b[39mnewline,\n\u001b[0;32m    703\u001b[0m     max_seq_length\u001b[39m=\u001b[39m\u001b[39mself\u001b[39m\u001b[39m.\u001b[39mmax_seq_length,\n\u001b[0;32m    704\u001b[0m     singleton_pprinters\u001b[39m=\u001b[39m\u001b[39mself\u001b[39m\u001b[39m.\u001b[39msingleton_printers,\n\u001b[0;32m    705\u001b[0m     type_pprinters\u001b[39m=\u001b[39m\u001b[39mself\u001b[39m\u001b[39m.\u001b[39mtype_printers,\n\u001b[0;32m    706\u001b[0m     deferred_pprinters\u001b[39m=\u001b[39m\u001b[39mself\u001b[39m\u001b[39m.\u001b[39mdeferred_printers)\n\u001b[1;32m--> 707\u001b[0m printer\u001b[39m.\u001b[39;49mpretty(obj)\n\u001b[0;32m    708\u001b[0m printer\u001b[39m.\u001b[39mflush()\n\u001b[0;32m    709\u001b[0m \u001b[39mreturn\u001b[39;00m stream\u001b[39m.\u001b[39mgetvalue()\n",
      "File \u001b[1;32mc:\\Users\\kotlyarov_m\\Anaconda3\\lib\\site-packages\\IPython\\lib\\pretty.py:410\u001b[0m, in \u001b[0;36mRepresentationPrinter.pretty\u001b[1;34m(self, obj)\u001b[0m\n\u001b[0;32m    407\u001b[0m                         \u001b[39mreturn\u001b[39;00m meth(obj, \u001b[39mself\u001b[39m, cycle)\n\u001b[0;32m    408\u001b[0m                 \u001b[39mif\u001b[39;00m \u001b[39mcls\u001b[39m \u001b[39mis\u001b[39;00m \u001b[39mnot\u001b[39;00m \u001b[39mobject\u001b[39m \\\n\u001b[0;32m    409\u001b[0m                         \u001b[39mand\u001b[39;00m callable(\u001b[39mcls\u001b[39m\u001b[39m.\u001b[39m\u001b[39m__dict__\u001b[39m\u001b[39m.\u001b[39mget(\u001b[39m'\u001b[39m\u001b[39m__repr__\u001b[39m\u001b[39m'\u001b[39m)):\n\u001b[1;32m--> 410\u001b[0m                     \u001b[39mreturn\u001b[39;00m _repr_pprint(obj, \u001b[39mself\u001b[39;49m, cycle)\n\u001b[0;32m    412\u001b[0m     \u001b[39mreturn\u001b[39;00m _default_pprint(obj, \u001b[39mself\u001b[39m, cycle)\n\u001b[0;32m    413\u001b[0m \u001b[39mfinally\u001b[39;00m:\n",
      "File \u001b[1;32mc:\\Users\\kotlyarov_m\\Anaconda3\\lib\\site-packages\\IPython\\lib\\pretty.py:778\u001b[0m, in \u001b[0;36m_repr_pprint\u001b[1;34m(obj, p, cycle)\u001b[0m\n\u001b[0;32m    776\u001b[0m \u001b[39m\"\"\"A pprint that just redirects to the normal repr function.\"\"\"\u001b[39;00m\n\u001b[0;32m    777\u001b[0m \u001b[39m# Find newlines and replace them with p.break_()\u001b[39;00m\n\u001b[1;32m--> 778\u001b[0m output \u001b[39m=\u001b[39m \u001b[39mrepr\u001b[39;49m(obj)\n\u001b[0;32m    779\u001b[0m lines \u001b[39m=\u001b[39m output\u001b[39m.\u001b[39msplitlines()\n\u001b[0;32m    780\u001b[0m \u001b[39mwith\u001b[39;00m p\u001b[39m.\u001b[39mgroup():\n",
      "File \u001b[1;32mc:\\Users\\kotlyarov_m\\Documents\\MK\\MAL\\Даты\\20230808\\MAL\\files\\py\\МАЛ.py:950\u001b[0m, in \u001b[0;36mР.__repr__\u001b[1;34m(я)\u001b[0m\n\u001b[0;32m    948\u001b[0m возврат \u001b[39m+\u001b[39m\u001b[39m=\u001b[39m я\u001b[39m.\u001b[39mАПВ\u001b[39m.\u001b[39mICAO \u001b[39m+\u001b[39m \u001b[39m'\u001b[39m\u001b[39m|\u001b[39m\u001b[39m'\u001b[39m \u001b[39m+\u001b[39m я\u001b[39m.\u001b[39mАПВ\u001b[39m.\u001b[39mIATA \u001b[39m+\u001b[39m \u001b[39m'\u001b[39m\u001b[39m|\u001b[39m\u001b[39m'\u001b[39m \u001b[39m+\u001b[39m я\u001b[39m.\u001b[39mАПВ\u001b[39m.\u001b[39mГород \u001b[39m+\u001b[39m \u001b[39m'\u001b[39m\u001b[39m|\u001b[39m\u001b[39m'\u001b[39m \u001b[39m+\u001b[39m я\u001b[39m.\u001b[39mАПВ\u001b[39m.\u001b[39mНазвание \u001b[39m+\u001b[39m \u001b[39m'\u001b[39m\u001b[39m\\n\u001b[39;00m\u001b[39m'\u001b[39m\n\u001b[0;32m    949\u001b[0m возврат \u001b[39m+\u001b[39m\u001b[39m=\u001b[39m \u001b[39m\"\u001b[39m\u001b[39mАэропорт прибытия: \u001b[39m\u001b[39m\"\u001b[39m \u001b[39m+\u001b[39m я\u001b[39m.\u001b[39mАПП\u001b[39m.\u001b[39mICAO \u001b[39m+\u001b[39m \u001b[39m'\u001b[39m\u001b[39m|\u001b[39m\u001b[39m'\u001b[39m \u001b[39m+\u001b[39m я\u001b[39m.\u001b[39mАПП\u001b[39m.\u001b[39mIATA \u001b[39m+\u001b[39m \u001b[39m'\u001b[39m\u001b[39m|\u001b[39m\u001b[39m'\u001b[39m \u001b[39m+\u001b[39m я\u001b[39m.\u001b[39mАПП\u001b[39m.\u001b[39mГород \u001b[39m+\u001b[39m \u001b[39m'\u001b[39m\u001b[39m|\u001b[39m\u001b[39m'\u001b[39m \u001b[39m+\u001b[39m я\u001b[39m.\u001b[39mАПП\u001b[39m.\u001b[39mНазвание \u001b[39m+\u001b[39m \u001b[39m'\u001b[39m\u001b[39m\\n\u001b[39;00m\u001b[39m'\u001b[39m\n\u001b[1;32m--> 950\u001b[0m возврат \u001b[39m+\u001b[39m\u001b[39m=\u001b[39m \u001b[39m\"\u001b[39;49m\u001b[39mРасчётный тип ВС:  \u001b[39;49m\u001b[39m\"\u001b[39;49m \u001b[39m+\u001b[39;49m я\u001b[39m.\u001b[39;49mВС\u001b[39m.\u001b[39;49mТип \u001b[39m+\u001b[39m \u001b[39m'\u001b[39m\u001b[39m\\n\u001b[39;00m\u001b[39m'\u001b[39m\n\u001b[0;32m    951\u001b[0m возврат \u001b[39m+\u001b[39m\u001b[39m=\u001b[39m \u001b[39m\"\u001b[39m\u001b[39mДистанция:         \u001b[39m\u001b[39m\"\u001b[39m \u001b[39m+\u001b[39m \u001b[39mstr\u001b[39m(я\u001b[39m.\u001b[39mГРКТА) \u001b[39m+\u001b[39m \u001b[39m'\u001b[39m\u001b[39m км\u001b[39m\u001b[39m\\n\u001b[39;00m\u001b[39m'\u001b[39m\n\u001b[0;32m    952\u001b[0m возврат \u001b[39m+\u001b[39m\u001b[39m=\u001b[39m \u001b[39m\"\u001b[39m\u001b[39mПродолжительность: \u001b[39m\u001b[39m\"\u001b[39m \u001b[39m+\u001b[39m \u001b[39mstr\u001b[39m(я\u001b[39m.\u001b[39mПП\u001b[39m.\u001b[39mчас) \u001b[39m+\u001b[39m \u001b[39m\"\u001b[39m\u001b[39m:\u001b[39m\u001b[39m\"\u001b[39m \u001b[39m+\u001b[39m \u001b[39mstr\u001b[39m(я\u001b[39m.\u001b[39mПП\u001b[39m.\u001b[39mмин) \u001b[39m+\u001b[39m \u001b[39m'\u001b[39m\u001b[39m\\n\u001b[39;00m\u001b[39m'\u001b[39m\n",
      "\u001b[1;31mTypeError\u001b[0m: can only concatenate str (not \"NoneType\") to str"
     ]
    }
   ],
   "source": [
    "НВКНСКИЛ = МАЛ.Р('UNWW', 'UNNT', 'Ил-114-300')\n",
    "НВКНСКИЛ"
   ]
  },
  {
   "cell_type": "code",
   "execution_count": null,
   "metadata": {},
   "outputs": [
    {
     "ename": "FileNotFoundError",
     "evalue": "[Errno 2] No such file or directory: 'c:\\\\Users\\\\kotlyarov_m\\\\Documents\\\\MK\\\\MAL\\\\20230414\\\\MAL\\\\files\\\\csv\\\\aopa-points-export.csv'",
     "output_type": "error",
     "traceback": [
      "\u001b[1;31m---------------------------------------------------------------------------\u001b[0m",
      "\u001b[1;31mFileNotFoundError\u001b[0m                         Traceback (most recent call last)",
      "\u001b[1;32mc:\\Users\\kotlyarov_m\\Documents\\MK\\MAL\\20230414\\MAL\\files\\ipynb\\МАЛ.ipynb Cell 3\u001b[0m in \u001b[0;36m<cell line: 2>\u001b[1;34m()\u001b[0m\n\u001b[0;32m      <a href='vscode-notebook-cell:/c%3A/Users/kotlyarov_m/Documents/MK/MAL/20230414/MAL/files/ipynb/%D0%9C%D0%90%D0%9B.ipynb#W2sZmlsZQ%3D%3D?line=0'>1</a>\u001b[0m файл \u001b[39m=\u001b[39m МАЛ\u001b[39m.\u001b[39mИД()\u001b[39m.\u001b[39mРЧ[\u001b[39m'\u001b[39m\u001b[39mКаталог\u001b[39m\u001b[39m'\u001b[39m]\u001b[39m.\u001b[39mjoinpath(\u001b[39mr\u001b[39m\u001b[39m'\u001b[39m\u001b[39mcsv/aopa-points-export.csv\u001b[39m\u001b[39m'\u001b[39m)\n\u001b[1;32m----> <a href='vscode-notebook-cell:/c%3A/Users/kotlyarov_m/Documents/MK/MAL/20230414/MAL/files/ipynb/%D0%9C%D0%90%D0%9B.ipynb#W2sZmlsZQ%3D%3D?line=1'>2</a>\u001b[0m \u001b[39mwith\u001b[39;00m \u001b[39mopen\u001b[39;49m(файл, encoding\u001b[39m=\u001b[39;49m\u001b[39m'\u001b[39;49m\u001b[39mutf8\u001b[39;49m\u001b[39m'\u001b[39;49m) \u001b[39mas\u001b[39;00m f:\n\u001b[0;32m      <a href='vscode-notebook-cell:/c%3A/Users/kotlyarov_m/Documents/MK/MAL/20230414/MAL/files/ipynb/%D0%9C%D0%90%D0%9B.ipynb#W2sZmlsZQ%3D%3D?line=2'>3</a>\u001b[0m     ff \u001b[39m=\u001b[39m pd\u001b[39m.\u001b[39mread_csv(f, sep\u001b[39m=\u001b[39m\u001b[39m'\u001b[39m\u001b[39m;\u001b[39m\u001b[39m'\u001b[39m, index_col\u001b[39m=\u001b[39m\u001b[39m'\u001b[39m\u001b[39mИндекс\u001b[39m\u001b[39m'\u001b[39m)\n\u001b[0;32m      <a href='vscode-notebook-cell:/c%3A/Users/kotlyarov_m/Documents/MK/MAL/20230414/MAL/files/ipynb/%D0%9C%D0%90%D0%9B.ipynb#W2sZmlsZQ%3D%3D?line=3'>4</a>\u001b[0m ff\n",
      "\u001b[1;31mFileNotFoundError\u001b[0m: [Errno 2] No such file or directory: 'c:\\\\Users\\\\kotlyarov_m\\\\Documents\\\\MK\\\\MAL\\\\20230414\\\\MAL\\\\files\\\\csv\\\\aopa-points-export.csv'"
     ]
    }
   ],
   "source": [
    "файл = МАЛ.ИД().РЧ['Каталог'].joinpath(r'csv/aopa-points-export.csv')\n",
    "with open(файл, encoding='utf8') as f:\n",
    "    ff = pd.read_csv(f, sep=';', index_col='Индекс')\n",
    "ff"
   ]
  },
  {
   "cell_type": "code",
   "execution_count": null,
   "metadata": {},
   "outputs": [
    {
     "ename": "NameError",
     "evalue": "name '__file__' is not defined",
     "output_type": "error",
     "traceback": [
      "\u001b[1;31m---------------------------------------------------------------------------\u001b[0m",
      "\u001b[1;31mNameError\u001b[0m                                 Traceback (most recent call last)",
      "\u001b[1;32mc:\\Users\\kotlyarov_m\\Documents\\MK\\MAL\\20230414\\MAL\\files\\ipynb\\МАЛ.ipynb Cell 4\u001b[0m in \u001b[0;36m<cell line: 2>\u001b[1;34m()\u001b[0m\n\u001b[0;32m      <a href='vscode-notebook-cell:/c%3A/Users/kotlyarov_m/Documents/MK/MAL/20230414/MAL/files/ipynb/%D0%9C%D0%90%D0%9B.ipynb#W3sZmlsZQ%3D%3D?line=0'>1</a>\u001b[0m \u001b[39mfrom\u001b[39;00m \u001b[39mos\u001b[39;00m\u001b[39m.\u001b[39;00m\u001b[39mpath\u001b[39;00m \u001b[39mimport\u001b[39;00m dirname, join\n\u001b[1;32m----> <a href='vscode-notebook-cell:/c%3A/Users/kotlyarov_m/Documents/MK/MAL/20230414/MAL/files/ipynb/%D0%9C%D0%90%D0%9B.ipynb#W3sZmlsZQ%3D%3D?line=1'>2</a>\u001b[0m current_dir \u001b[39m=\u001b[39m dirname(\u001b[39m__file__\u001b[39;49m)\n\u001b[0;32m      <a href='vscode-notebook-cell:/c%3A/Users/kotlyarov_m/Documents/MK/MAL/20230414/MAL/files/ipynb/%D0%9C%D0%90%D0%9B.ipynb#W3sZmlsZQ%3D%3D?line=2'>3</a>\u001b[0m \u001b[39m#file_path = join(current_dir, \"./test.txt\")\u001b[39;00m\n\u001b[0;32m      <a href='vscode-notebook-cell:/c%3A/Users/kotlyarov_m/Documents/MK/MAL/20230414/MAL/files/ipynb/%D0%9C%D0%90%D0%9B.ipynb#W3sZmlsZQ%3D%3D?line=3'>4</a>\u001b[0m \u001b[39m#with open(file_path, 'r') as f:\u001b[39;00m\n\u001b[0;32m      <a href='vscode-notebook-cell:/c%3A/Users/kotlyarov_m/Documents/MK/MAL/20230414/MAL/files/ipynb/%D0%9C%D0%90%D0%9B.ipynb#W3sZmlsZQ%3D%3D?line=4'>5</a>\u001b[0m f \u001b[39m=\u001b[39m pd\u001b[39m.\u001b[39mread_file(\u001b[39mr\u001b[39m\u001b[39m'\u001b[39m\u001b[39m..\u001b[39m\u001b[39m\\\u001b[39m\u001b[39mcsv\u001b[39m\u001b[39m\\\u001b[39m\u001b[39maopa-points-export.csv\u001b[39m\u001b[39m'\u001b[39m, sep\u001b[39m=\u001b[39m\u001b[39m'\u001b[39m\u001b[39m;\u001b[39m\u001b[39m'\u001b[39m, index_col\u001b[39m=\u001b[39m\u001b[39m'\u001b[39m\u001b[39mИндекс\u001b[39m\u001b[39m'\u001b[39m)\n",
      "\u001b[1;31mNameError\u001b[0m: name '__file__' is not defined"
     ]
    }
   ],
   "source": [
    "from os.path import dirname, join\n",
    "current_dir = dirname(__file__)\n",
    "#file_path = join(current_dir, \"./test.txt\")\n",
    "#with open(file_path, 'r') as f:\n",
    "f = pd.read_file(r'..\\csv\\aopa-points-export.csv', sep=';', index_col='Индекс')\n",
    "f"
   ]
  }
 ],
 "metadata": {
  "kernelspec": {
   "display_name": "Python 3 (ipykernel)",
   "language": "python",
   "name": "python3"
  },
  "language_info": {
   "codemirror_mode": {
    "name": "ipython",
    "version": 3
   },
   "file_extension": ".py",
   "mimetype": "text/x-python",
   "name": "python",
   "nbconvert_exporter": "python",
   "pygments_lexer": "ipython3",
   "version": "3.9.7"
  }
 },
 "nbformat": 4,
 "nbformat_minor": 2
}
