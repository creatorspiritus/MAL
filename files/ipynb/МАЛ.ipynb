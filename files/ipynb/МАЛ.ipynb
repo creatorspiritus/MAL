{
 "cells": [
  {
   "cell_type": "code",
   "execution_count": 12,
   "metadata": {},
   "outputs": [],
   "source": [
    "from importlib.machinery import SourceFileLoader\n",
    "from datetime import datetime\n",
    "import pandas as pd\n",
    "МАЛ = SourceFileLoader('module.name', '../py/МАЛ.py').load_module()"
   ]
  },
  {
   "cell_type": "code",
   "execution_count": 13,
   "metadata": {},
   "outputs": [
    {
     "data": {
      "text/html": [
       "<div style=\"width:100%;\"><div style=\"position:relative;width:100%;height:0;padding-bottom:60%;\"><span style=\"color:#565656\">Make this Notebook Trusted to load map: File -> Trust Notebook</span><iframe srcdoc=\"&lt;!DOCTYPE html&gt;\n",
       "&lt;html&gt;\n",
       "&lt;head&gt;\n",
       "    \n",
       "    &lt;meta http-equiv=&quot;content-type&quot; content=&quot;text/html; charset=UTF-8&quot; /&gt;\n",
       "    \n",
       "        &lt;script&gt;\n",
       "            L_NO_TOUCH = false;\n",
       "            L_DISABLE_3D = false;\n",
       "        &lt;/script&gt;\n",
       "    \n",
       "    &lt;style&gt;html, body {width: 100%;height: 100%;margin: 0;padding: 0;}&lt;/style&gt;\n",
       "    &lt;style&gt;#map {position:absolute;top:0;bottom:0;right:0;left:0;}&lt;/style&gt;\n",
       "    &lt;script src=&quot;https://cdn.jsdelivr.net/npm/leaflet@1.9.3/dist/leaflet.js&quot;&gt;&lt;/script&gt;\n",
       "    &lt;script src=&quot;https://code.jquery.com/jquery-1.12.4.min.js&quot;&gt;&lt;/script&gt;\n",
       "    &lt;script src=&quot;https://cdn.jsdelivr.net/npm/bootstrap@5.2.2/dist/js/bootstrap.bundle.min.js&quot;&gt;&lt;/script&gt;\n",
       "    &lt;script src=&quot;https://cdnjs.cloudflare.com/ajax/libs/Leaflet.awesome-markers/2.0.2/leaflet.awesome-markers.js&quot;&gt;&lt;/script&gt;\n",
       "    &lt;link rel=&quot;stylesheet&quot; href=&quot;https://cdn.jsdelivr.net/npm/leaflet@1.9.3/dist/leaflet.css&quot;/&gt;\n",
       "    &lt;link rel=&quot;stylesheet&quot; href=&quot;https://cdn.jsdelivr.net/npm/bootstrap@5.2.2/dist/css/bootstrap.min.css&quot;/&gt;\n",
       "    &lt;link rel=&quot;stylesheet&quot; href=&quot;https://netdna.bootstrapcdn.com/bootstrap/3.0.0/css/bootstrap.min.css&quot;/&gt;\n",
       "    &lt;link rel=&quot;stylesheet&quot; href=&quot;https://cdn.jsdelivr.net/npm/@fortawesome/fontawesome-free@6.2.0/css/all.min.css&quot;/&gt;\n",
       "    &lt;link rel=&quot;stylesheet&quot; href=&quot;https://cdnjs.cloudflare.com/ajax/libs/Leaflet.awesome-markers/2.0.2/leaflet.awesome-markers.css&quot;/&gt;\n",
       "    &lt;link rel=&quot;stylesheet&quot; href=&quot;https://cdn.jsdelivr.net/gh/python-visualization/folium/folium/templates/leaflet.awesome.rotate.min.css&quot;/&gt;\n",
       "    \n",
       "            &lt;meta name=&quot;viewport&quot; content=&quot;width=device-width,\n",
       "                initial-scale=1.0, maximum-scale=1.0, user-scalable=no&quot; /&gt;\n",
       "            &lt;style&gt;\n",
       "                #map_e320d8a95ab848d8c2152c443da35a4b {\n",
       "                    position: relative;\n",
       "                    width: 100.0%;\n",
       "                    height: 100.0%;\n",
       "                    left: 0.0%;\n",
       "                    top: 0.0%;\n",
       "                }\n",
       "                .leaflet-container { font-size: 1rem; }\n",
       "            &lt;/style&gt;\n",
       "        \n",
       "&lt;/head&gt;\n",
       "&lt;body&gt;\n",
       "    \n",
       "    \n",
       "            &lt;div class=&quot;folium-map&quot; id=&quot;map_e320d8a95ab848d8c2152c443da35a4b&quot; &gt;&lt;/div&gt;\n",
       "        \n",
       "&lt;/body&gt;\n",
       "&lt;script&gt;\n",
       "    \n",
       "    \n",
       "            var map_e320d8a95ab848d8c2152c443da35a4b = L.map(\n",
       "                &quot;map_e320d8a95ab848d8c2152c443da35a4b&quot;,\n",
       "                {\n",
       "                    center: [66.413951, 94.241942],\n",
       "                    crs: L.CRS.EPSG3857,\n",
       "                    zoom: 4,\n",
       "                    zoomControl: true,\n",
       "                    preferCanvas: false,\n",
       "                }\n",
       "            );\n",
       "\n",
       "            \n",
       "\n",
       "        \n",
       "    \n",
       "            var tile_layer_a8f92fa754d72899e6f184e871156ff8 = L.tileLayer(\n",
       "                &quot;https://{s}.tile.openstreetmap.org/{z}/{x}/{y}.png&quot;,\n",
       "                {&quot;attribution&quot;: &quot;Data by \\u0026copy; \\u003ca target=\\&quot;_blank\\&quot; href=\\&quot;http://openstreetmap.org\\&quot;\\u003eOpenStreetMap\\u003c/a\\u003e, under \\u003ca target=\\&quot;_blank\\&quot; href=\\&quot;http://www.openstreetmap.org/copyright\\&quot;\\u003eODbL\\u003c/a\\u003e.&quot;, &quot;detectRetina&quot;: false, &quot;maxNativeZoom&quot;: 18, &quot;maxZoom&quot;: 18, &quot;minZoom&quot;: 0, &quot;noWrap&quot;: false, &quot;opacity&quot;: 1, &quot;subdomains&quot;: &quot;abc&quot;, &quot;tms&quot;: false}\n",
       "            ).addTo(map_e320d8a95ab848d8c2152c443da35a4b);\n",
       "        \n",
       "    \n",
       "            var macro_element_e3bef2d2a12fad57bf56a44a29b704fb = L.tileLayer.wms(\n",
       "                &quot;http://services.arcgisonline.com/arcgis/rest/services/World_Shaded_Relief/MapServer/tile/{z}/{y}/{x}&quot;,\n",
       "                {&quot;attribution&quot;: &quot;ESRI World Shaded Relief&quot;, &quot;format&quot;: &quot;image/jpeg&quot;, &quot;styles&quot;: &quot;&quot;, &quot;transparent&quot;: false, &quot;version&quot;: &quot;1.1.1&quot;}\n",
       "            ).addTo(map_e320d8a95ab848d8c2152c443da35a4b);\n",
       "        \n",
       "    \n",
       "            var feature_group_577cbcacd5060a57fa1f7fdd380cbc69 = L.featureGroup(\n",
       "                {}\n",
       "            ).addTo(map_e320d8a95ab848d8c2152c443da35a4b);\n",
       "        \n",
       "    \n",
       "            var circle_marker_f3d12d9e2635c128e554b9ea52661dff = L.circleMarker(\n",
       "                [66.413951, 94.241942],\n",
       "                {&quot;bubblingMouseEvents&quot;: true, &quot;color&quot;: &quot;red&quot;, &quot;dashArray&quot;: null, &quot;dashOffset&quot;: null, &quot;fill&quot;: true, &quot;fillColor&quot;: &quot;red&quot;, &quot;fillOpacity&quot;: 0.2, &quot;fillRule&quot;: &quot;evenodd&quot;, &quot;lineCap&quot;: &quot;round&quot;, &quot;lineJoin&quot;: &quot;round&quot;, &quot;opacity&quot;: 1.0, &quot;radius&quot;: 3, &quot;stroke&quot;: true, &quot;weight&quot;: 3}\n",
       "            ).addTo(feature_group_577cbcacd5060a57fa1f7fdd380cbc69);\n",
       "        \n",
       "&lt;/script&gt;\n",
       "&lt;/html&gt;\" style=\"position:absolute;width:100%;height:100%;left:0;top:0;border:none !important;\" allowfullscreen webkitallowfullscreen mozallowfullscreen></iframe></div></div>"
      ],
      "text/plain": [
       "<folium.folium.Map at 0x29ebe054550>"
      ]
     },
     "execution_count": 13,
     "metadata": {},
     "output_type": "execute_result"
    }
   ],
   "source": [
    "МАЛ.ИД().Карта()"
   ]
  },
  {
   "cell_type": "code",
   "execution_count": 39,
   "metadata": {},
   "outputs": [
    {
     "data": {
      "text/plain": [
       "UHMA|DYR|Угольный|Анадырь"
      ]
     },
     "execution_count": 39,
     "metadata": {},
     "output_type": "execute_result"
    }
   ],
   "source": [
    "МАЛ.А('UHMA')"
   ]
  },
  {
   "cell_type": "code",
   "execution_count": 19,
   "metadata": {},
   "outputs": [
    {
     "data": {
      "text/plain": [
       "7647.619047619048"
      ]
     },
     "execution_count": 19,
     "metadata": {},
     "output_type": "execute_result"
    }
   ],
   "source": [
    "32120/4.2"
   ]
  },
  {
   "cell_type": "code",
   "execution_count": 3,
   "metadata": {},
   "outputs": [
    {
     "data": {
      "text/plain": [
       "Сводные данные по рейсу\n",
       "\n",
       "Аэропорт вылета:   UNWW|NOZ|Новокузнецк|Спиченково\n",
       "Аэропорт прибытия: UNNT|OVB|Новосибирск|Толмачёво\n",
       "Расчётный тип ВС:  Ил-114-300\n",
       "Дистанция:         309 км\n",
       "Продолжительность: 0:48\n",
       "Вылет:             2025-05-01 00:00:00\n",
       "Прибытие:          2025-05-01 01:05:18.816000\n",
       "Отправление:       2025-05-01 01:50:18.816000\n",
       "Себестоимость:     133887.89"
      ]
     },
     "execution_count": 3,
     "metadata": {},
     "output_type": "execute_result"
    }
   ],
   "source": [
    "НВКНСКИЛ = МАЛ.Р('UNWW', 'UNNT', 'Ил-114-300')\n",
    "НВКНСКИЛ"
   ]
  },
  {
   "cell_type": "code",
   "execution_count": 2,
   "metadata": {},
   "outputs": [
    {
     "ename": "FileNotFoundError",
     "evalue": "[Errno 2] No such file or directory: 'c:\\\\Users\\\\kotlyarov_m\\\\Documents\\\\MK\\\\MAL\\\\20230414\\\\MAL\\\\files\\\\csv\\\\aopa-points-export.csv'",
     "output_type": "error",
     "traceback": [
      "\u001b[1;31m---------------------------------------------------------------------------\u001b[0m",
      "\u001b[1;31mFileNotFoundError\u001b[0m                         Traceback (most recent call last)",
      "\u001b[1;32mc:\\Users\\kotlyarov_m\\Documents\\MK\\MAL\\20230414\\MAL\\files\\ipynb\\МАЛ.ipynb Cell 3\u001b[0m in \u001b[0;36m<cell line: 2>\u001b[1;34m()\u001b[0m\n\u001b[0;32m      <a href='vscode-notebook-cell:/c%3A/Users/kotlyarov_m/Documents/MK/MAL/20230414/MAL/files/ipynb/%D0%9C%D0%90%D0%9B.ipynb#W2sZmlsZQ%3D%3D?line=0'>1</a>\u001b[0m файл \u001b[39m=\u001b[39m МАЛ\u001b[39m.\u001b[39mИД()\u001b[39m.\u001b[39mРЧ[\u001b[39m'\u001b[39m\u001b[39mКаталог\u001b[39m\u001b[39m'\u001b[39m]\u001b[39m.\u001b[39mjoinpath(\u001b[39mr\u001b[39m\u001b[39m'\u001b[39m\u001b[39mcsv/aopa-points-export.csv\u001b[39m\u001b[39m'\u001b[39m)\n\u001b[1;32m----> <a href='vscode-notebook-cell:/c%3A/Users/kotlyarov_m/Documents/MK/MAL/20230414/MAL/files/ipynb/%D0%9C%D0%90%D0%9B.ipynb#W2sZmlsZQ%3D%3D?line=1'>2</a>\u001b[0m \u001b[39mwith\u001b[39;00m \u001b[39mopen\u001b[39;49m(файл, encoding\u001b[39m=\u001b[39;49m\u001b[39m'\u001b[39;49m\u001b[39mutf8\u001b[39;49m\u001b[39m'\u001b[39;49m) \u001b[39mas\u001b[39;00m f:\n\u001b[0;32m      <a href='vscode-notebook-cell:/c%3A/Users/kotlyarov_m/Documents/MK/MAL/20230414/MAL/files/ipynb/%D0%9C%D0%90%D0%9B.ipynb#W2sZmlsZQ%3D%3D?line=2'>3</a>\u001b[0m     ff \u001b[39m=\u001b[39m pd\u001b[39m.\u001b[39mread_csv(f, sep\u001b[39m=\u001b[39m\u001b[39m'\u001b[39m\u001b[39m;\u001b[39m\u001b[39m'\u001b[39m, index_col\u001b[39m=\u001b[39m\u001b[39m'\u001b[39m\u001b[39mИндекс\u001b[39m\u001b[39m'\u001b[39m)\n\u001b[0;32m      <a href='vscode-notebook-cell:/c%3A/Users/kotlyarov_m/Documents/MK/MAL/20230414/MAL/files/ipynb/%D0%9C%D0%90%D0%9B.ipynb#W2sZmlsZQ%3D%3D?line=3'>4</a>\u001b[0m ff\n",
      "\u001b[1;31mFileNotFoundError\u001b[0m: [Errno 2] No such file or directory: 'c:\\\\Users\\\\kotlyarov_m\\\\Documents\\\\MK\\\\MAL\\\\20230414\\\\MAL\\\\files\\\\csv\\\\aopa-points-export.csv'"
     ]
    }
   ],
   "source": [
    "файл = МАЛ.ИД().РЧ['Каталог'].joinpath(r'csv/aopa-points-export.csv')\n",
    "with open(файл, encoding='utf8') as f:\n",
    "    ff = pd.read_csv(f, sep=';', index_col='Индекс')\n",
    "ff"
   ]
  },
  {
   "cell_type": "code",
   "execution_count": 3,
   "metadata": {},
   "outputs": [
    {
     "ename": "NameError",
     "evalue": "name '__file__' is not defined",
     "output_type": "error",
     "traceback": [
      "\u001b[1;31m---------------------------------------------------------------------------\u001b[0m",
      "\u001b[1;31mNameError\u001b[0m                                 Traceback (most recent call last)",
      "\u001b[1;32mc:\\Users\\kotlyarov_m\\Documents\\MK\\MAL\\20230414\\MAL\\files\\ipynb\\МАЛ.ipynb Cell 4\u001b[0m in \u001b[0;36m<cell line: 2>\u001b[1;34m()\u001b[0m\n\u001b[0;32m      <a href='vscode-notebook-cell:/c%3A/Users/kotlyarov_m/Documents/MK/MAL/20230414/MAL/files/ipynb/%D0%9C%D0%90%D0%9B.ipynb#W3sZmlsZQ%3D%3D?line=0'>1</a>\u001b[0m \u001b[39mfrom\u001b[39;00m \u001b[39mos\u001b[39;00m\u001b[39m.\u001b[39;00m\u001b[39mpath\u001b[39;00m \u001b[39mimport\u001b[39;00m dirname, join\n\u001b[1;32m----> <a href='vscode-notebook-cell:/c%3A/Users/kotlyarov_m/Documents/MK/MAL/20230414/MAL/files/ipynb/%D0%9C%D0%90%D0%9B.ipynb#W3sZmlsZQ%3D%3D?line=1'>2</a>\u001b[0m current_dir \u001b[39m=\u001b[39m dirname(\u001b[39m__file__\u001b[39;49m)\n\u001b[0;32m      <a href='vscode-notebook-cell:/c%3A/Users/kotlyarov_m/Documents/MK/MAL/20230414/MAL/files/ipynb/%D0%9C%D0%90%D0%9B.ipynb#W3sZmlsZQ%3D%3D?line=2'>3</a>\u001b[0m \u001b[39m#file_path = join(current_dir, \"./test.txt\")\u001b[39;00m\n\u001b[0;32m      <a href='vscode-notebook-cell:/c%3A/Users/kotlyarov_m/Documents/MK/MAL/20230414/MAL/files/ipynb/%D0%9C%D0%90%D0%9B.ipynb#W3sZmlsZQ%3D%3D?line=3'>4</a>\u001b[0m \u001b[39m#with open(file_path, 'r') as f:\u001b[39;00m\n\u001b[0;32m      <a href='vscode-notebook-cell:/c%3A/Users/kotlyarov_m/Documents/MK/MAL/20230414/MAL/files/ipynb/%D0%9C%D0%90%D0%9B.ipynb#W3sZmlsZQ%3D%3D?line=4'>5</a>\u001b[0m f \u001b[39m=\u001b[39m pd\u001b[39m.\u001b[39mread_file(\u001b[39mr\u001b[39m\u001b[39m'\u001b[39m\u001b[39m..\u001b[39m\u001b[39m\\\u001b[39m\u001b[39mcsv\u001b[39m\u001b[39m\\\u001b[39m\u001b[39maopa-points-export.csv\u001b[39m\u001b[39m'\u001b[39m, sep\u001b[39m=\u001b[39m\u001b[39m'\u001b[39m\u001b[39m;\u001b[39m\u001b[39m'\u001b[39m, index_col\u001b[39m=\u001b[39m\u001b[39m'\u001b[39m\u001b[39mИндекс\u001b[39m\u001b[39m'\u001b[39m)\n",
      "\u001b[1;31mNameError\u001b[0m: name '__file__' is not defined"
     ]
    }
   ],
   "source": [
    "from os.path import dirname, join\n",
    "current_dir = dirname(__file__)\n",
    "#file_path = join(current_dir, \"./test.txt\")\n",
    "#with open(file_path, 'r') as f:\n",
    "f = pd.read_file(r'..\\csv\\aopa-points-export.csv', sep=';', index_col='Индекс')\n",
    "f"
   ]
  }
 ],
 "metadata": {
  "kernelspec": {
   "display_name": "Python 3 (ipykernel)",
   "language": "python",
   "name": "python3"
  },
  "language_info": {
   "codemirror_mode": {
    "name": "ipython",
    "version": 3
   },
   "file_extension": ".py",
   "mimetype": "text/x-python",
   "name": "python",
   "nbconvert_exporter": "python",
   "pygments_lexer": "ipython3",
   "version": "3.9.12"
  }
 },
 "nbformat": 4,
 "nbformat_minor": 2
}
